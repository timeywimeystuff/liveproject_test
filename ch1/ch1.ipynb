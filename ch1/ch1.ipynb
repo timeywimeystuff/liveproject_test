{
 "cells": [
  {
   "cell_type": "code",
   "execution_count": 1,
   "metadata": {},
   "outputs": [],
   "source": [
    "import pandas as pd\n",
    "import os"
   ]
  },
  {
   "cell_type": "code",
   "execution_count": 27,
   "metadata": {},
   "outputs": [],
   "source": [
    "files = ['safety-SanFrancisco.parquet','safety-Seattle.parquet','safety-Nyc.parquet']"
   ]
  },
  {
   "cell_type": "code",
   "execution_count": 2,
   "metadata": {},
   "outputs": [],
   "source": [
    "directory = str(os.getcwd())+'/files/'\n",
    "filename = files[0]"
   ]
  },
  {
   "cell_type": "code",
   "execution_count": 28,
   "metadata": {},
   "outputs": [
    {
     "name": "stdout",
     "output_type": "stream",
     "text": [
      "safety-SanFrancisco.parquet\n"
     ]
    }
   ],
   "source": [
    "print(filename)"
   ]
  },
  {
   "cell_type": "code",
   "execution_count": 3,
   "metadata": {},
   "outputs": [],
   "source": [
    "df = pd.read_parquet(directory+filename)"
   ]
  },
  {
   "cell_type": "markdown",
   "metadata": {},
   "source": [
    "### Data Exploration"
   ]
  },
  {
   "cell_type": "code",
   "execution_count": 4,
   "metadata": {},
   "outputs": [
    {
     "name": "stdout",
     "output_type": "stream",
     "text": [
      "<class 'pandas.core.frame.DataFrame'>\n",
      "RangeIndex: 3958889 entries, 0 to 3958888\n",
      "Data columns (total 12 columns):\n",
      " #   Column              Dtype  \n",
      "---  ------              -----  \n",
      " 0   requestId           int64  \n",
      " 1   dataType            object \n",
      " 2   dataSubtype         object \n",
      " 3   dateTime            object \n",
      " 4   category            object \n",
      " 5   subcategory         object \n",
      " 6   status              object \n",
      " 7   address             object \n",
      " 8   latitude            float64\n",
      " 9   longitude           float64\n",
      " 10  source              object \n",
      " 11  extendedProperties  object \n",
      "dtypes: float64(2), int64(1), object(9)\n",
      "memory usage: 362.4+ MB\n"
     ]
    }
   ],
   "source": [
    "# data length and data types\n",
    "df.info() "
   ]
  },
  {
   "cell_type": "code",
   "execution_count": 5,
   "metadata": {},
   "outputs": [
    {
     "data": {
      "text/html": [
       "<div>\n",
       "<style scoped>\n",
       "    .dataframe tbody tr th:only-of-type {\n",
       "        vertical-align: middle;\n",
       "    }\n",
       "\n",
       "    .dataframe tbody tr th {\n",
       "        vertical-align: top;\n",
       "    }\n",
       "\n",
       "    .dataframe thead th {\n",
       "        text-align: right;\n",
       "    }\n",
       "</style>\n",
       "<table border=\"1\" class=\"dataframe\">\n",
       "  <thead>\n",
       "    <tr style=\"text-align: right;\">\n",
       "      <th></th>\n",
       "      <th>requestId</th>\n",
       "      <th>dataType</th>\n",
       "      <th>dataSubtype</th>\n",
       "      <th>dateTime</th>\n",
       "      <th>category</th>\n",
       "      <th>subcategory</th>\n",
       "      <th>status</th>\n",
       "      <th>address</th>\n",
       "      <th>latitude</th>\n",
       "      <th>longitude</th>\n",
       "      <th>source</th>\n",
       "      <th>extendedProperties</th>\n",
       "    </tr>\n",
       "  </thead>\n",
       "  <tbody>\n",
       "    <tr>\n",
       "      <th>0</th>\n",
       "      <td>1</td>\n",
       "      <td>Safety</td>\n",
       "      <td>911_Fire</td>\n",
       "      <td>2018-10-02 11:54:01</td>\n",
       "      <td>Potentially Life-Threatening</td>\n",
       "      <td>Medical Incident</td>\n",
       "      <td>None</td>\n",
       "      <td>ELM ST/FRANKLIN ST</td>\n",
       "      <td>37.781286</td>\n",
       "      <td>-122.422187</td>\n",
       "      <td>None</td>\n",
       "      <td></td>\n",
       "    </tr>\n",
       "    <tr>\n",
       "      <th>1</th>\n",
       "      <td>2</td>\n",
       "      <td>Safety</td>\n",
       "      <td>311_All</td>\n",
       "      <td>2018-07-08 15:00:27</td>\n",
       "      <td>Street and Sidewalk Cleaning</td>\n",
       "      <td>Bulky Items</td>\n",
       "      <td>Closed</td>\n",
       "      <td>1536 SACRAMENTO ST, SAN FRANCISCO, CA, 94109</td>\n",
       "      <td>37.791887</td>\n",
       "      <td>-122.418188</td>\n",
       "      <td>Mobile/Open311</td>\n",
       "      <td></td>\n",
       "    </tr>\n",
       "  </tbody>\n",
       "</table>\n",
       "</div>"
      ],
      "text/plain": [
       "   requestId dataType dataSubtype             dateTime  \\\n",
       "0          1   Safety    911_Fire  2018-10-02 11:54:01   \n",
       "1          2   Safety     311_All  2018-07-08 15:00:27   \n",
       "\n",
       "                       category       subcategory  status  \\\n",
       "0  Potentially Life-Threatening  Medical Incident    None   \n",
       "1  Street and Sidewalk Cleaning       Bulky Items  Closed   \n",
       "\n",
       "                                        address   latitude   longitude  \\\n",
       "0                            ELM ST/FRANKLIN ST  37.781286 -122.422187   \n",
       "1  1536 SACRAMENTO ST, SAN FRANCISCO, CA, 94109  37.791887 -122.418188   \n",
       "\n",
       "           source extendedProperties  \n",
       "0            None                     \n",
       "1  Mobile/Open311                     "
      ]
     },
     "execution_count": 5,
     "metadata": {},
     "output_type": "execute_result"
    }
   ],
   "source": [
    "df.head(2)"
   ]
  },
  {
   "cell_type": "code",
   "execution_count": 6,
   "metadata": {},
   "outputs": [
    {
     "data": {
      "text/html": [
       "<div>\n",
       "<style scoped>\n",
       "    .dataframe tbody tr th:only-of-type {\n",
       "        vertical-align: middle;\n",
       "    }\n",
       "\n",
       "    .dataframe tbody tr th {\n",
       "        vertical-align: top;\n",
       "    }\n",
       "\n",
       "    .dataframe thead th {\n",
       "        text-align: right;\n",
       "    }\n",
       "</style>\n",
       "<table border=\"1\" class=\"dataframe\">\n",
       "  <thead>\n",
       "    <tr style=\"text-align: right;\">\n",
       "      <th></th>\n",
       "      <th>requestId</th>\n",
       "      <th>dataType</th>\n",
       "      <th>dataSubtype</th>\n",
       "      <th>dateTime</th>\n",
       "      <th>category</th>\n",
       "      <th>subcategory</th>\n",
       "      <th>status</th>\n",
       "      <th>address</th>\n",
       "      <th>latitude</th>\n",
       "      <th>longitude</th>\n",
       "      <th>source</th>\n",
       "      <th>extendedProperties</th>\n",
       "    </tr>\n",
       "  </thead>\n",
       "  <tbody>\n",
       "    <tr>\n",
       "      <th>57</th>\n",
       "      <td>127</td>\n",
       "      <td>Safety</td>\n",
       "      <td>311_All</td>\n",
       "      <td>2019-02-13 18:05:00</td>\n",
       "      <td>Abandoned Vehicle</td>\n",
       "      <td>Abandoned Vehicles</td>\n",
       "      <td>Closed</td>\n",
       "      <td>556 5TH AVE, SAN FRANCISCO, CA, 94118</td>\n",
       "      <td>37.778136</td>\n",
       "      <td>-122.462724</td>\n",
       "      <td>Web</td>\n",
       "      <td></td>\n",
       "    </tr>\n",
       "    <tr>\n",
       "      <th>2968465</th>\n",
       "      <td>127</td>\n",
       "      <td>Safety</td>\n",
       "      <td>311_All</td>\n",
       "      <td>2017-12-06 23:40:00</td>\n",
       "      <td>Street and Sidewalk Cleaning</td>\n",
       "      <td>General Cleaning</td>\n",
       "      <td>Closed</td>\n",
       "      <td>575 BERRY ST, SAN FRANCISCO, CA, 94107</td>\n",
       "      <td>37.769675</td>\n",
       "      <td>-122.400914</td>\n",
       "      <td>Mobile/Open311</td>\n",
       "      <td></td>\n",
       "    </tr>\n",
       "  </tbody>\n",
       "</table>\n",
       "</div>"
      ],
      "text/plain": [
       "         requestId dataType dataSubtype             dateTime  \\\n",
       "57             127   Safety     311_All  2019-02-13 18:05:00   \n",
       "2968465        127   Safety     311_All  2017-12-06 23:40:00   \n",
       "\n",
       "                             category         subcategory  status  \\\n",
       "57                  Abandoned Vehicle  Abandoned Vehicles  Closed   \n",
       "2968465  Street and Sidewalk Cleaning    General Cleaning  Closed   \n",
       "\n",
       "                                        address   latitude   longitude  \\\n",
       "57        556 5TH AVE, SAN FRANCISCO, CA, 94118  37.778136 -122.462724   \n",
       "2968465  575 BERRY ST, SAN FRANCISCO, CA, 94107  37.769675 -122.400914   \n",
       "\n",
       "                 source extendedProperties  \n",
       "57                  Web                     \n",
       "2968465  Mobile/Open311                     "
      ]
     },
     "execution_count": 6,
     "metadata": {},
     "output_type": "execute_result"
    }
   ],
   "source": [
    "df[df.requestId==127]"
   ]
  },
  {
   "cell_type": "code",
   "execution_count": 7,
   "metadata": {},
   "outputs": [
    {
     "data": {
      "text/html": [
       "<div>\n",
       "<style scoped>\n",
       "    .dataframe tbody tr th:only-of-type {\n",
       "        vertical-align: middle;\n",
       "    }\n",
       "\n",
       "    .dataframe tbody tr th {\n",
       "        vertical-align: top;\n",
       "    }\n",
       "\n",
       "    .dataframe thead th {\n",
       "        text-align: right;\n",
       "    }\n",
       "</style>\n",
       "<table border=\"1\" class=\"dataframe\">\n",
       "  <thead>\n",
       "    <tr style=\"text-align: right;\">\n",
       "      <th></th>\n",
       "      <th>requestId</th>\n",
       "      <th>dataType</th>\n",
       "      <th>dataSubtype</th>\n",
       "      <th>dateTime</th>\n",
       "      <th>category</th>\n",
       "      <th>subcategory</th>\n",
       "      <th>status</th>\n",
       "      <th>address</th>\n",
       "      <th>latitude</th>\n",
       "      <th>longitude</th>\n",
       "      <th>source</th>\n",
       "      <th>extendedProperties</th>\n",
       "    </tr>\n",
       "  </thead>\n",
       "  <tbody>\n",
       "    <tr>\n",
       "      <th>57</th>\n",
       "      <td>127</td>\n",
       "      <td>Safety</td>\n",
       "      <td>311_All</td>\n",
       "      <td>2019-02-13 18:05:00</td>\n",
       "      <td>Abandoned Vehicle</td>\n",
       "      <td>Abandoned Vehicles</td>\n",
       "      <td>Closed</td>\n",
       "      <td>556 5TH AVE, SAN FRANCISCO, CA, 94118</td>\n",
       "      <td>37.778136</td>\n",
       "      <td>-122.462724</td>\n",
       "      <td>Web</td>\n",
       "      <td></td>\n",
       "    </tr>\n",
       "    <tr>\n",
       "      <th>16032</th>\n",
       "      <td>38806</td>\n",
       "      <td>Safety</td>\n",
       "      <td>311_All</td>\n",
       "      <td>2016-10-18 18:28:05</td>\n",
       "      <td>Sidewalk or Curb</td>\n",
       "      <td>Curb_or_Curb_Ramp_Defect</td>\n",
       "      <td>Closed</td>\n",
       "      <td>556 5TH AVE, SAN FRANCISCO, CA, 94118</td>\n",
       "      <td>37.778131</td>\n",
       "      <td>-122.462845</td>\n",
       "      <td>Phone</td>\n",
       "      <td></td>\n",
       "    </tr>\n",
       "    <tr>\n",
       "      <th>507322</th>\n",
       "      <td>31368</td>\n",
       "      <td>Safety</td>\n",
       "      <td>311_All</td>\n",
       "      <td>2019-01-26 15:10:00</td>\n",
       "      <td>Parking Enforcement</td>\n",
       "      <td>Blocking_Driveway_Cite_Only</td>\n",
       "      <td>Closed</td>\n",
       "      <td>556 5TH AVE, SAN FRANCISCO, CA, 94118</td>\n",
       "      <td>37.778136</td>\n",
       "      <td>-122.462724</td>\n",
       "      <td>Web</td>\n",
       "      <td></td>\n",
       "    </tr>\n",
       "    <tr>\n",
       "      <th>668372</th>\n",
       "      <td>422252</td>\n",
       "      <td>Safety</td>\n",
       "      <td>311_All</td>\n",
       "      <td>2018-07-03 16:34:00</td>\n",
       "      <td>Parking Enforcement</td>\n",
       "      <td>Blocking_Driveway_Cite_Only</td>\n",
       "      <td>Closed</td>\n",
       "      <td>556 5TH AVE, SAN FRANCISCO, CA, 94118</td>\n",
       "      <td>37.778132</td>\n",
       "      <td>-122.462842</td>\n",
       "      <td>Phone</td>\n",
       "      <td></td>\n",
       "    </tr>\n",
       "    <tr>\n",
       "      <th>914502</th>\n",
       "      <td>1019767</td>\n",
       "      <td>Safety</td>\n",
       "      <td>311_All</td>\n",
       "      <td>2017-05-02 13:58:52</td>\n",
       "      <td>Graffiti</td>\n",
       "      <td>Graffiti on Other_enter_additional_details_below</td>\n",
       "      <td>Closed</td>\n",
       "      <td>556 5TH AVE, SAN FRANCISCO, CA, 94118</td>\n",
       "      <td>37.778135</td>\n",
       "      <td>-122.462734</td>\n",
       "      <td>Web</td>\n",
       "      <td></td>\n",
       "    </tr>\n",
       "    <tr>\n",
       "      <th>1856771</th>\n",
       "      <td>905280</td>\n",
       "      <td>Safety</td>\n",
       "      <td>311_All</td>\n",
       "      <td>2019-08-23 09:44:42</td>\n",
       "      <td>Encampments</td>\n",
       "      <td>Encampment items</td>\n",
       "      <td>Closed</td>\n",
       "      <td>556 5TH AVE, SAN FRANCISCO, CA, 94118</td>\n",
       "      <td>37.778125</td>\n",
       "      <td>-122.462766</td>\n",
       "      <td>Mobile/Open311</td>\n",
       "      <td></td>\n",
       "    </tr>\n",
       "    <tr>\n",
       "      <th>2432657</th>\n",
       "      <td>1102385</td>\n",
       "      <td>Safety</td>\n",
       "      <td>311_All</td>\n",
       "      <td>2019-01-25 19:35:00</td>\n",
       "      <td>Parking Enforcement</td>\n",
       "      <td>Blocking_Driveway_Cite_Only</td>\n",
       "      <td>Closed</td>\n",
       "      <td>556 5TH AVE, SAN FRANCISCO, CA, 94118</td>\n",
       "      <td>37.778136</td>\n",
       "      <td>-122.462724</td>\n",
       "      <td>Web</td>\n",
       "      <td></td>\n",
       "    </tr>\n",
       "    <tr>\n",
       "      <th>3272968</th>\n",
       "      <td>739475</td>\n",
       "      <td>Safety</td>\n",
       "      <td>311_All</td>\n",
       "      <td>2018-09-22 20:18:00</td>\n",
       "      <td>Parking Enforcement</td>\n",
       "      <td>Blocking_Driveway_Cite_Only</td>\n",
       "      <td>Closed</td>\n",
       "      <td>556 5TH AVE, SAN FRANCISCO, CA, 94118</td>\n",
       "      <td>37.778132</td>\n",
       "      <td>-122.462842</td>\n",
       "      <td>Phone</td>\n",
       "      <td></td>\n",
       "    </tr>\n",
       "    <tr>\n",
       "      <th>3587037</th>\n",
       "      <td>298489</td>\n",
       "      <td>Safety</td>\n",
       "      <td>311_All</td>\n",
       "      <td>2019-11-14 11:44:00</td>\n",
       "      <td>Parking Enforcement</td>\n",
       "      <td>Blocking_Driveway_Cite_Only</td>\n",
       "      <td>Closed</td>\n",
       "      <td>556 5TH AVE, SAN FRANCISCO, CA, 94118</td>\n",
       "      <td>37.778132</td>\n",
       "      <td>-122.462842</td>\n",
       "      <td>Phone</td>\n",
       "      <td></td>\n",
       "    </tr>\n",
       "  </tbody>\n",
       "</table>\n",
       "</div>"
      ],
      "text/plain": [
       "         requestId dataType dataSubtype             dateTime  \\\n",
       "57             127   Safety     311_All  2019-02-13 18:05:00   \n",
       "16032        38806   Safety     311_All  2016-10-18 18:28:05   \n",
       "507322       31368   Safety     311_All  2019-01-26 15:10:00   \n",
       "668372      422252   Safety     311_All  2018-07-03 16:34:00   \n",
       "914502     1019767   Safety     311_All  2017-05-02 13:58:52   \n",
       "1856771     905280   Safety     311_All  2019-08-23 09:44:42   \n",
       "2432657    1102385   Safety     311_All  2019-01-25 19:35:00   \n",
       "3272968     739475   Safety     311_All  2018-09-22 20:18:00   \n",
       "3587037     298489   Safety     311_All  2019-11-14 11:44:00   \n",
       "\n",
       "                    category  \\\n",
       "57         Abandoned Vehicle   \n",
       "16032       Sidewalk or Curb   \n",
       "507322   Parking Enforcement   \n",
       "668372   Parking Enforcement   \n",
       "914502              Graffiti   \n",
       "1856771          Encampments   \n",
       "2432657  Parking Enforcement   \n",
       "3272968  Parking Enforcement   \n",
       "3587037  Parking Enforcement   \n",
       "\n",
       "                                              subcategory  status  \\\n",
       "57                                     Abandoned Vehicles  Closed   \n",
       "16032                            Curb_or_Curb_Ramp_Defect  Closed   \n",
       "507322                        Blocking_Driveway_Cite_Only  Closed   \n",
       "668372                        Blocking_Driveway_Cite_Only  Closed   \n",
       "914502   Graffiti on Other_enter_additional_details_below  Closed   \n",
       "1856771                                  Encampment items  Closed   \n",
       "2432657                       Blocking_Driveway_Cite_Only  Closed   \n",
       "3272968                       Blocking_Driveway_Cite_Only  Closed   \n",
       "3587037                       Blocking_Driveway_Cite_Only  Closed   \n",
       "\n",
       "                                       address   latitude   longitude  \\\n",
       "57       556 5TH AVE, SAN FRANCISCO, CA, 94118  37.778136 -122.462724   \n",
       "16032    556 5TH AVE, SAN FRANCISCO, CA, 94118  37.778131 -122.462845   \n",
       "507322   556 5TH AVE, SAN FRANCISCO, CA, 94118  37.778136 -122.462724   \n",
       "668372   556 5TH AVE, SAN FRANCISCO, CA, 94118  37.778132 -122.462842   \n",
       "914502   556 5TH AVE, SAN FRANCISCO, CA, 94118  37.778135 -122.462734   \n",
       "1856771  556 5TH AVE, SAN FRANCISCO, CA, 94118  37.778125 -122.462766   \n",
       "2432657  556 5TH AVE, SAN FRANCISCO, CA, 94118  37.778136 -122.462724   \n",
       "3272968  556 5TH AVE, SAN FRANCISCO, CA, 94118  37.778132 -122.462842   \n",
       "3587037  556 5TH AVE, SAN FRANCISCO, CA, 94118  37.778132 -122.462842   \n",
       "\n",
       "                 source extendedProperties  \n",
       "57                  Web                     \n",
       "16032             Phone                     \n",
       "507322              Web                     \n",
       "668372            Phone                     \n",
       "914502              Web                     \n",
       "1856771  Mobile/Open311                     \n",
       "2432657             Web                     \n",
       "3272968           Phone                     \n",
       "3587037           Phone                     "
      ]
     },
     "execution_count": 7,
     "metadata": {},
     "output_type": "execute_result"
    }
   ],
   "source": [
    "df[df.address == '556 5TH AVE, SAN FRANCISCO, CA, 94118']"
   ]
  },
  {
   "cell_type": "code",
   "execution_count": 8,
   "metadata": {},
   "outputs": [
    {
     "data": {
      "text/plain": [
       "requestId                   0\n",
       "dataType                    0\n",
       "dataSubtype                 0\n",
       "dateTime                    0\n",
       "category                 4933\n",
       "subcategory                 0\n",
       "status                1405089\n",
       "address                     3\n",
       "latitude                    0\n",
       "longitude                   0\n",
       "source                1405089\n",
       "extendedProperties          0\n",
       "dtype: int64"
      ]
     },
     "execution_count": 8,
     "metadata": {},
     "output_type": "execute_result"
    }
   ],
   "source": [
    "# measure the number of nulls\n",
    "df.isnull().sum()"
   ]
  },
  {
   "cell_type": "code",
   "execution_count": 9,
   "metadata": {},
   "outputs": [],
   "source": [
    "# based on the unique value count, we can safely remove dataType and extendedProperties from the dataframe\n",
    "df.drop(columns=['dataType','extendedProperties'], axis=1, inplace=True)"
   ]
  },
  {
   "cell_type": "code",
   "execution_count": 10,
   "metadata": {},
   "outputs": [],
   "source": [
    "# convert dateTime column values to datetime\n",
    "df[\"dateTime\"]= pd.to_datetime(df[\"dateTime\"]) "
   ]
  },
  {
   "cell_type": "code",
   "execution_count": 11,
   "metadata": {},
   "outputs": [],
   "source": [
    "# categorize columns into numeric/datetime columns and string/object columns\n",
    "numeric_col = ['requestId','dateTime','latitude','longitude']\n",
    "string_col = ['dataSubtype', 'category','subcategory', 'status', 'address','source']"
   ]
  },
  {
   "cell_type": "code",
   "execution_count": 12,
   "metadata": {},
   "outputs": [
    {
     "name": "stdout",
     "output_type": "stream",
     "text": [
      "dataSubtype: 2\n",
      "category: 96\n",
      "subcategory: 639\n",
      "status: 3\n",
      "address: 226725\n",
      "source: 9\n"
     ]
    }
   ],
   "source": [
    "# measuring how many unique values are in each column to understand which can be categorized\n",
    "for col in df[string_col].columns.values:\n",
    "    print(col+ ': ' + str(len(df[col].unique())))"
   ]
  },
  {
   "cell_type": "code",
   "execution_count": 13,
   "metadata": {},
   "outputs": [],
   "source": [
    "# some columns cannot be categorized, add category list\n",
    "category_col = ['dataSubtype','category','status','source']"
   ]
  },
  {
   "cell_type": "code",
   "execution_count": 14,
   "metadata": {},
   "outputs": [],
   "source": [
    "# set category for the columns identified in category_col\n",
    "# for cat in category_col:\n",
    "#     df[cat] = df[cat].astype('category')\n",
    "df[category_col] = df[category_col].astype('category')"
   ]
  },
  {
   "cell_type": "code",
   "execution_count": 15,
   "metadata": {},
   "outputs": [
    {
     "name": "stdout",
     "output_type": "stream",
     "text": [
      "<class 'pandas.core.frame.DataFrame'>\n",
      "RangeIndex: 3958889 entries, 0 to 3958888\n",
      "Data columns (total 10 columns):\n",
      " #   Column       Dtype         \n",
      "---  ------       -----         \n",
      " 0   requestId    int64         \n",
      " 1   dataSubtype  category      \n",
      " 2   dateTime     datetime64[ns]\n",
      " 3   category     category      \n",
      " 4   subcategory  object        \n",
      " 5   status       category      \n",
      " 6   address      object        \n",
      " 7   latitude     float64       \n",
      " 8   longitude    float64       \n",
      " 9   source       category      \n",
      "dtypes: category(4), datetime64[ns](1), float64(2), int64(1), object(2)\n",
      "memory usage: 196.3+ MB\n"
     ]
    }
   ],
   "source": [
    "# check data types\n",
    "df.info()"
   ]
  },
  {
   "cell_type": "code",
   "execution_count": 16,
   "metadata": {},
   "outputs": [
    {
     "data": {
      "text/plain": [
       "requestId            0\n",
       "dataSubtype          0\n",
       "dateTime             0\n",
       "category          4933\n",
       "subcategory          0\n",
       "status         1405089\n",
       "address              3\n",
       "latitude             0\n",
       "longitude            0\n",
       "source         1405089\n",
       "dtype: int64"
      ]
     },
     "execution_count": 16,
     "metadata": {},
     "output_type": "execute_result"
    }
   ],
   "source": [
    "# check for nulls \n",
    "df.isnull().sum()"
   ]
  },
  {
   "cell_type": "code",
   "execution_count": 17,
   "metadata": {
    "scrolled": true
   },
   "outputs": [
    {
     "data": {
      "text/html": [
       "<div>\n",
       "<style scoped>\n",
       "    .dataframe tbody tr th:only-of-type {\n",
       "        vertical-align: middle;\n",
       "    }\n",
       "\n",
       "    .dataframe tbody tr th {\n",
       "        vertical-align: top;\n",
       "    }\n",
       "\n",
       "    .dataframe thead th {\n",
       "        text-align: right;\n",
       "    }\n",
       "</style>\n",
       "<table border=\"1\" class=\"dataframe\">\n",
       "  <thead>\n",
       "    <tr style=\"text-align: right;\">\n",
       "      <th></th>\n",
       "      <th>requestId</th>\n",
       "      <th>dateTime</th>\n",
       "      <th>category</th>\n",
       "      <th>subcategory</th>\n",
       "      <th>status</th>\n",
       "      <th>address</th>\n",
       "      <th>latitude</th>\n",
       "      <th>longitude</th>\n",
       "      <th>source</th>\n",
       "    </tr>\n",
       "    <tr>\n",
       "      <th>dataSubtype</th>\n",
       "      <th></th>\n",
       "      <th></th>\n",
       "      <th></th>\n",
       "      <th></th>\n",
       "      <th></th>\n",
       "      <th></th>\n",
       "      <th></th>\n",
       "      <th></th>\n",
       "      <th></th>\n",
       "    </tr>\n",
       "  </thead>\n",
       "  <tbody>\n",
       "    <tr>\n",
       "      <th>311_All</th>\n",
       "      <td>2553800</td>\n",
       "      <td>2553800</td>\n",
       "      <td>2553800</td>\n",
       "      <td>2553800</td>\n",
       "      <td>2553800</td>\n",
       "      <td>2553797</td>\n",
       "      <td>2553800</td>\n",
       "      <td>2553800</td>\n",
       "      <td>2553800</td>\n",
       "    </tr>\n",
       "    <tr>\n",
       "      <th>911_Fire</th>\n",
       "      <td>1405089</td>\n",
       "      <td>1405089</td>\n",
       "      <td>1400156</td>\n",
       "      <td>1405089</td>\n",
       "      <td>0</td>\n",
       "      <td>1405089</td>\n",
       "      <td>1405089</td>\n",
       "      <td>1405089</td>\n",
       "      <td>0</td>\n",
       "    </tr>\n",
       "  </tbody>\n",
       "</table>\n",
       "</div>"
      ],
      "text/plain": [
       "             requestId  dateTime  category  subcategory   status  address  \\\n",
       "dataSubtype                                                                 \n",
       "311_All        2553800   2553800   2553800      2553800  2553800  2553797   \n",
       "911_Fire       1405089   1405089   1400156      1405089        0  1405089   \n",
       "\n",
       "             latitude  longitude   source  \n",
       "dataSubtype                                \n",
       "311_All       2553800    2553800  2553800  \n",
       "911_Fire      1405089    1405089        0  "
      ]
     },
     "execution_count": 17,
     "metadata": {},
     "output_type": "execute_result"
    }
   ],
   "source": [
    "# aggregating on the category with the fewest types, we can see 911 has most of the nulls\n",
    "df.groupby(['dataSubtype']).count()"
   ]
  },
  {
   "cell_type": "code",
   "execution_count": 18,
   "metadata": {},
   "outputs": [
    {
     "name": "stdout",
     "output_type": "stream",
     "text": [
      "[NaN, Mobile/Open311, Phone, Web, Integrated Agency, Other Department, Twitter, Email, Mail]\n",
      "Categories (8, object): [Mobile/Open311, Phone, Web, Integrated Agency, Other Department, Twitter, Email, Mail]\n",
      "[NaN, Closed, Open]\n",
      "Categories (2, object): [Closed, Open]\n"
     ]
    }
   ],
   "source": [
    "#understand the unique categories of source and status \n",
    "print(df.source.unique())\n",
    "print(df.status.unique())"
   ]
  },
  {
   "cell_type": "code",
   "execution_count": 19,
   "metadata": {},
   "outputs": [],
   "source": [
    "#assume all 911 calls are via phone and closed due to visitation (if required)\n",
    "df.loc[(df['dataSubtype']=='911_Fire') & pd.isna(df['source']), 'source'] = 'Phone'\n",
    "df.loc[(df['dataSubtype']=='911_Fire') & pd.isna(df['status']), 'status'] = 'Closed'"
   ]
  },
  {
   "cell_type": "code",
   "execution_count": 21,
   "metadata": {},
   "outputs": [
    {
     "data": {
      "text/plain": [
       "requestId         0\n",
       "dataSubtype       0\n",
       "dateTime          0\n",
       "category       4933\n",
       "subcategory       0\n",
       "status            0\n",
       "address           3\n",
       "latitude          0\n",
       "longitude         0\n",
       "source            0\n",
       "dtype: int64"
      ]
     },
     "execution_count": 21,
     "metadata": {},
     "output_type": "execute_result"
    }
   ],
   "source": [
    "# check for nulls, leave the rest alone - could remove since minor group compared to total\n",
    "df.isnull().sum()"
   ]
  },
  {
   "cell_type": "code",
   "execution_count": 22,
   "metadata": {},
   "outputs": [
    {
     "data": {
      "text/plain": [
       "1"
      ]
     },
     "execution_count": 22,
     "metadata": {},
     "output_type": "execute_result"
    }
   ],
   "source": [
    "# check for duplicates\n",
    "df.duplicated().sum()"
   ]
  },
  {
   "cell_type": "code",
   "execution_count": 23,
   "metadata": {},
   "outputs": [],
   "source": [
    "# drop duplicates \n",
    "df.drop_duplicates(keep = 'first', inplace = True)"
   ]
  },
  {
   "cell_type": "code",
   "execution_count": 24,
   "metadata": {},
   "outputs": [
    {
     "data": {
      "text/plain": [
       "0"
      ]
     },
     "execution_count": 24,
     "metadata": {},
     "output_type": "execute_result"
    }
   ],
   "source": [
    "# check duplicate removal worked\n",
    "df.duplicated().sum()"
   ]
  },
  {
   "cell_type": "code",
   "execution_count": 25,
   "metadata": {},
   "outputs": [],
   "source": [
    "df = df.reset_index(drop=True)"
   ]
  },
  {
   "cell_type": "code",
   "execution_count": 26,
   "metadata": {},
   "outputs": [],
   "source": [
    "# write to file\n",
    "df.to_parquet(directory+'cleaned_safety-SanFrancisco.parquet', compression='snappy') "
   ]
  },
  {
   "cell_type": "markdown",
   "metadata": {},
   "source": [
    "### Write function with some of the above steps:\n",
    "- convert dateTime column to_datetime\n",
    "- remove columns dataType, extendedProperties\n",
    "- for 911 calls, replace null status and source with 'Closed' and 'Phone'\n",
    "- remove duplicates\n",
    "- reset index\n",
    "- write to file"
   ]
  },
  {
   "cell_type": "code",
   "execution_count": 55,
   "metadata": {},
   "outputs": [],
   "source": [
    "def data_preprocessing(directory, filename):\n",
    "    \"\"\"Preprocess dataframe\n",
    "    - convert dateTime column to_datetime\n",
    "    - remove columns dataType, extendedProperties\n",
    "    - for 911 calls, replace null status and source with 'Closed' and 'Phone'\n",
    "    - remove duplicates\n",
    "    - reset index\n",
    "    - write to file\n",
    "    \"\"\"\n",
    "    filepath = directory + filename\n",
    "   \n",
    "    df = pd.read_parquet(filepath)\n",
    "    print(\"\\n\\nProcessing: \" + filename)\n",
    "    \n",
    "    df.drop(columns=['dataType','extendedProperties'], axis=1, inplace=True)\n",
    "    print(\"Dropping columns: dataType, extendedProperties\")\n",
    "\n",
    "    df[\"dateTime\"]= pd.to_datetime(df[\"dateTime\"])\n",
    "    print(\"Converted dateTime column to datetime\")\n",
    "\n",
    "    df.loc[(df['dataSubtype']=='911_Fire') & pd.isna(df['source']), 'source'] = 'Phone'\n",
    "    df.loc[(df['dataSubtype']=='911_Fire') & pd.isna(df['status']), 'status'] = 'Closed'\n",
    "    print(\"Converted 911_Fire dataSubtypes with source/status null to Phone and Closed\")\n",
    "    \n",
    "    df[['dataSubtype','category','status','source']] = df[['dataSubtype','category','status','source']].astype('category')\n",
    "    print(\"Converted to category these columns: dataSubtype,category,status,source\")    \n",
    "    \n",
    "    print('Removing ' + str(df.duplicated().sum()) + ' duplicates')\n",
    "    df.drop_duplicates(keep = 'first', inplace = True)\n",
    "\n",
    "    df = df.reset_index(drop=True)\n",
    "    print(\"Resetting index\")\n",
    "    \n",
    "    output_file = 'cleaned_'+str(filename) \n",
    "    df.to_parquet(directory+output_file, compression='snappy')\n",
    "    print(\"Writing cleaned file to directory: \" + output_file )\n",
    "    \n",
    "    return print('Processing of ' + str(filename) +' complete')\n",
    "    \n"
   ]
  },
  {
   "cell_type": "code",
   "execution_count": 56,
   "metadata": {},
   "outputs": [
    {
     "name": "stdout",
     "output_type": "stream",
     "text": [
      "\n",
      "\n",
      "Processing: safety-SanFrancisco.parquet\n",
      "Dropping columns: dataType, extendedProperties\n",
      "Converted dateTime column to datetime\n",
      "Converted 911_Fire dataSubtypes with source/status null to Phone and Closed\n",
      "Converted to category these columns: dataSubtype,category,status,source\n",
      "Removing 1 duplicates\n",
      "Resetting index\n",
      "Writing cleaned file to directory: cleaned_safety-SanFrancisco.parquet\n",
      "Processing of safety-SanFrancisco.parquet complete\n",
      "\n",
      "\n",
      "Processing: safety-Seattle.parquet\n",
      "Dropping columns: dataType, extendedProperties\n",
      "Converted dateTime column to datetime\n",
      "Converted 911_Fire dataSubtypes with source/status null to Phone and Closed\n",
      "Converted to category these columns: dataSubtype,category,status,source\n",
      "Removing 0 duplicates\n",
      "Resetting index\n",
      "Writing cleaned file to directory: cleaned_safety-Seattle.parquet\n",
      "Processing of safety-Seattle.parquet complete\n",
      "\n",
      "\n",
      "Processing: safety-Nyc.parquet\n",
      "Dropping columns: dataType, extendedProperties\n",
      "Converted dateTime column to datetime\n",
      "Converted 911_Fire dataSubtypes with source/status null to Phone and Closed\n",
      "Converted to category these columns: dataSubtype,category,status,source\n",
      "Removing 2 duplicates\n",
      "Resetting index\n",
      "Writing cleaned file to directory: cleaned_safety-Nyc.parquet\n",
      "Processing of safety-Nyc.parquet complete\n"
     ]
    }
   ],
   "source": [
    "for i in files:\n",
    "    data_preprocessing(directory, i)"
   ]
  },
  {
   "cell_type": "code",
   "execution_count": null,
   "metadata": {},
   "outputs": [],
   "source": []
  }
 ],
 "metadata": {
  "kernelspec": {
   "display_name": "Python 3",
   "language": "python",
   "name": "python3"
  },
  "language_info": {
   "codemirror_mode": {
    "name": "ipython",
    "version": 3
   },
   "file_extension": ".py",
   "mimetype": "text/x-python",
   "name": "python",
   "nbconvert_exporter": "python",
   "pygments_lexer": "ipython3",
   "version": "3.7.9"
  }
 },
 "nbformat": 4,
 "nbformat_minor": 4
}
