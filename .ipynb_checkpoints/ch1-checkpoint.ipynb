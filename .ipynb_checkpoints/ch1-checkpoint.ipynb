{
 "cells": [
  {
   "cell_type": "code",
   "execution_count": 1,
   "metadata": {},
   "outputs": [],
   "source": [
    "import pandas as pd\n",
    "import os\n",
    "import pandas_profiling as pp\n"
   ]
  },
  {
   "cell_type": "code",
   "execution_count": 2,
   "metadata": {},
   "outputs": [],
   "source": [
    "directory = os.getcwd()\n",
    "filename = 'safety-SanFrancisco.parquet'"
   ]
  },
  {
   "cell_type": "code",
   "execution_count": 3,
   "metadata": {},
   "outputs": [],
   "source": [
    "df = pd.read_parquet(directory+'/'+filename)"
   ]
  },
  {
   "cell_type": "code",
   "execution_count": 4,
   "metadata": {},
   "outputs": [
    {
     "data": {
      "text/html": [
       "<div>\n",
       "<style scoped>\n",
       "    .dataframe tbody tr th:only-of-type {\n",
       "        vertical-align: middle;\n",
       "    }\n",
       "\n",
       "    .dataframe tbody tr th {\n",
       "        vertical-align: top;\n",
       "    }\n",
       "\n",
       "    .dataframe thead th {\n",
       "        text-align: right;\n",
       "    }\n",
       "</style>\n",
       "<table border=\"1\" class=\"dataframe\">\n",
       "  <thead>\n",
       "    <tr style=\"text-align: right;\">\n",
       "      <th></th>\n",
       "      <th>requestId</th>\n",
       "      <th>dataType</th>\n",
       "      <th>dataSubtype</th>\n",
       "      <th>dateTime</th>\n",
       "      <th>category</th>\n",
       "      <th>subcategory</th>\n",
       "      <th>status</th>\n",
       "      <th>address</th>\n",
       "      <th>latitude</th>\n",
       "      <th>longitude</th>\n",
       "      <th>source</th>\n",
       "      <th>extendedProperties</th>\n",
       "    </tr>\n",
       "  </thead>\n",
       "  <tbody>\n",
       "    <tr>\n",
       "      <th>0</th>\n",
       "      <td>1</td>\n",
       "      <td>Safety</td>\n",
       "      <td>911_Fire</td>\n",
       "      <td>2018-10-02 11:54:01</td>\n",
       "      <td>Potentially Life-Threatening</td>\n",
       "      <td>Medical Incident</td>\n",
       "      <td>None</td>\n",
       "      <td>ELM ST/FRANKLIN ST</td>\n",
       "      <td>37.781286</td>\n",
       "      <td>-122.422187</td>\n",
       "      <td>None</td>\n",
       "      <td></td>\n",
       "    </tr>\n",
       "    <tr>\n",
       "      <th>1</th>\n",
       "      <td>2</td>\n",
       "      <td>Safety</td>\n",
       "      <td>311_All</td>\n",
       "      <td>2018-07-08 15:00:27</td>\n",
       "      <td>Street and Sidewalk Cleaning</td>\n",
       "      <td>Bulky Items</td>\n",
       "      <td>Closed</td>\n",
       "      <td>1536 SACRAMENTO ST, SAN FRANCISCO, CA, 94109</td>\n",
       "      <td>37.791887</td>\n",
       "      <td>-122.418188</td>\n",
       "      <td>Mobile/Open311</td>\n",
       "      <td></td>\n",
       "    </tr>\n",
       "  </tbody>\n",
       "</table>\n",
       "</div>"
      ],
      "text/plain": [
       "   requestId dataType dataSubtype             dateTime  \\\n",
       "0          1   Safety    911_Fire  2018-10-02 11:54:01   \n",
       "1          2   Safety     311_All  2018-07-08 15:00:27   \n",
       "\n",
       "                       category       subcategory  status  \\\n",
       "0  Potentially Life-Threatening  Medical Incident    None   \n",
       "1  Street and Sidewalk Cleaning       Bulky Items  Closed   \n",
       "\n",
       "                                        address   latitude   longitude  \\\n",
       "0                            ELM ST/FRANKLIN ST  37.781286 -122.422187   \n",
       "1  1536 SACRAMENTO ST, SAN FRANCISCO, CA, 94109  37.791887 -122.418188   \n",
       "\n",
       "           source extendedProperties  \n",
       "0            None                     \n",
       "1  Mobile/Open311                     "
      ]
     },
     "execution_count": 4,
     "metadata": {},
     "output_type": "execute_result"
    }
   ],
   "source": [
    "df.head(2)"
   ]
  },
  {
   "cell_type": "code",
   "execution_count": 8,
   "metadata": {},
   "outputs": [
    {
     "data": {
      "text/html": [
       "<div>\n",
       "<style scoped>\n",
       "    .dataframe tbody tr th:only-of-type {\n",
       "        vertical-align: middle;\n",
       "    }\n",
       "\n",
       "    .dataframe tbody tr th {\n",
       "        vertical-align: top;\n",
       "    }\n",
       "\n",
       "    .dataframe thead th {\n",
       "        text-align: right;\n",
       "    }\n",
       "</style>\n",
       "<table border=\"1\" class=\"dataframe\">\n",
       "  <thead>\n",
       "    <tr style=\"text-align: right;\">\n",
       "      <th></th>\n",
       "      <th>requestId</th>\n",
       "      <th>dataType</th>\n",
       "      <th>dataSubtype</th>\n",
       "      <th>dateTime</th>\n",
       "      <th>category</th>\n",
       "      <th>subcategory</th>\n",
       "      <th>status</th>\n",
       "      <th>address</th>\n",
       "      <th>latitude</th>\n",
       "      <th>longitude</th>\n",
       "      <th>source</th>\n",
       "      <th>extendedProperties</th>\n",
       "    </tr>\n",
       "  </thead>\n",
       "  <tbody>\n",
       "    <tr>\n",
       "      <th>56</th>\n",
       "      <td>124</td>\n",
       "      <td>Safety</td>\n",
       "      <td>911_Fire</td>\n",
       "      <td>2018-11-27 20:27:07</td>\n",
       "      <td>Potentially Life-Threatening</td>\n",
       "      <td>Medical Incident</td>\n",
       "      <td>None</td>\n",
       "      <td>2100 Block of HARRISON ST</td>\n",
       "      <td>37.763486</td>\n",
       "      <td>-122.412882</td>\n",
       "      <td>None</td>\n",
       "      <td></td>\n",
       "    </tr>\n",
       "    <tr>\n",
       "      <th>57</th>\n",
       "      <td>127</td>\n",
       "      <td>Safety</td>\n",
       "      <td>311_All</td>\n",
       "      <td>2019-02-13 18:05:00</td>\n",
       "      <td>Abandoned Vehicle</td>\n",
       "      <td>Abandoned Vehicles</td>\n",
       "      <td>Closed</td>\n",
       "      <td>556 5TH AVE, SAN FRANCISCO, CA, 94118</td>\n",
       "      <td>37.778136</td>\n",
       "      <td>-122.462724</td>\n",
       "      <td>Web</td>\n",
       "      <td></td>\n",
       "    </tr>\n",
       "  </tbody>\n",
       "</table>\n",
       "</div>"
      ],
      "text/plain": [
       "    requestId dataType dataSubtype             dateTime  \\\n",
       "56        124   Safety    911_Fire  2018-11-27 20:27:07   \n",
       "57        127   Safety     311_All  2019-02-13 18:05:00   \n",
       "\n",
       "                        category         subcategory  status  \\\n",
       "56  Potentially Life-Threatening    Medical Incident    None   \n",
       "57             Abandoned Vehicle  Abandoned Vehicles  Closed   \n",
       "\n",
       "                                  address   latitude   longitude source  \\\n",
       "56              2100 Block of HARRISON ST  37.763486 -122.412882   None   \n",
       "57  556 5TH AVE, SAN FRANCISCO, CA, 94118  37.778136 -122.462724    Web   \n",
       "\n",
       "   extendedProperties  \n",
       "56                     \n",
       "57                     "
      ]
     },
     "execution_count": 8,
     "metadata": {},
     "output_type": "execute_result"
    }
   ],
   "source": [
    "df.iloc[56:58,:]"
   ]
  },
  {
   "cell_type": "code",
   "execution_count": 10,
   "metadata": {},
   "outputs": [],
   "source": [
    "df[\"dateTime\"]= pd.to_datetime(df[\"dateTime\"]) "
   ]
  },
  {
   "cell_type": "code",
   "execution_count": 18,
   "metadata": {},
   "outputs": [
    {
     "name": "stdout",
     "output_type": "stream",
     "text": [
      "requestId: 1185499\n",
      "dataType: 1\n",
      "dataSubtype: 2\n",
      "dateTime: 2613287\n",
      "category: 96\n",
      "subcategory: 639\n",
      "status: 3\n",
      "address: 226725\n",
      "latitude: 1206063\n",
      "longitude: 1159108\n",
      "source: 9\n",
      "extendedProperties: 1\n"
     ]
    }
   ],
   "source": [
    "for col in df.columns.values:\n",
    "    print(col+ ': ' + str(len(df[col].unique())))"
   ]
  },
  {
   "cell_type": "code",
   "execution_count": 19,
   "metadata": {},
   "outputs": [],
   "source": [
    "df.drop(columns=['dataType','extendedProperties'], axis=1, inplace=True)"
   ]
  },
  {
   "cell_type": "code",
   "execution_count": 21,
   "metadata": {},
   "outputs": [],
   "source": [
    "numeric_col = ['requestId','dateTime','latitude','longitude']\n",
    "strings = ['dataSubtype', 'category','subcategory', 'status', 'address','source']"
   ]
  },
  {
   "cell_type": "code",
   "execution_count": 22,
   "metadata": {},
   "outputs": [
    {
     "data": {
      "text/plain": [
       "requestId            0\n",
       "dataSubtype          0\n",
       "dateTime             0\n",
       "category          4933\n",
       "subcategory          0\n",
       "status         1405089\n",
       "address              3\n",
       "latitude             0\n",
       "longitude            0\n",
       "source         1405089\n",
       "dtype: int64"
      ]
     },
     "execution_count": 22,
     "metadata": {},
     "output_type": "execute_result"
    }
   ],
   "source": [
    "df.isnull().sum()"
   ]
  },
  {
   "cell_type": "code",
   "execution_count": 24,
   "metadata": {
    "scrolled": true
   },
   "outputs": [
    {
     "data": {
      "text/html": [
       "<div>\n",
       "<style scoped>\n",
       "    .dataframe tbody tr th:only-of-type {\n",
       "        vertical-align: middle;\n",
       "    }\n",
       "\n",
       "    .dataframe tbody tr th {\n",
       "        vertical-align: top;\n",
       "    }\n",
       "\n",
       "    .dataframe thead th {\n",
       "        text-align: right;\n",
       "    }\n",
       "</style>\n",
       "<table border=\"1\" class=\"dataframe\">\n",
       "  <thead>\n",
       "    <tr style=\"text-align: right;\">\n",
       "      <th></th>\n",
       "      <th>requestId</th>\n",
       "      <th>dateTime</th>\n",
       "      <th>category</th>\n",
       "      <th>subcategory</th>\n",
       "      <th>status</th>\n",
       "      <th>address</th>\n",
       "      <th>latitude</th>\n",
       "      <th>longitude</th>\n",
       "      <th>source</th>\n",
       "    </tr>\n",
       "    <tr>\n",
       "      <th>dataSubtype</th>\n",
       "      <th></th>\n",
       "      <th></th>\n",
       "      <th></th>\n",
       "      <th></th>\n",
       "      <th></th>\n",
       "      <th></th>\n",
       "      <th></th>\n",
       "      <th></th>\n",
       "      <th></th>\n",
       "    </tr>\n",
       "  </thead>\n",
       "  <tbody>\n",
       "    <tr>\n",
       "      <th>311_All</th>\n",
       "      <td>2553800</td>\n",
       "      <td>2553800</td>\n",
       "      <td>2553800</td>\n",
       "      <td>2553800</td>\n",
       "      <td>2553800</td>\n",
       "      <td>2553797</td>\n",
       "      <td>2553800</td>\n",
       "      <td>2553800</td>\n",
       "      <td>2553800</td>\n",
       "    </tr>\n",
       "    <tr>\n",
       "      <th>911_Fire</th>\n",
       "      <td>1405089</td>\n",
       "      <td>1405089</td>\n",
       "      <td>1400156</td>\n",
       "      <td>1405089</td>\n",
       "      <td>0</td>\n",
       "      <td>1405089</td>\n",
       "      <td>1405089</td>\n",
       "      <td>1405089</td>\n",
       "      <td>0</td>\n",
       "    </tr>\n",
       "  </tbody>\n",
       "</table>\n",
       "</div>"
      ],
      "text/plain": [
       "             requestId  dateTime  category  subcategory   status  address  \\\n",
       "dataSubtype                                                                 \n",
       "311_All        2553800   2553800   2553800      2553800  2553800  2553797   \n",
       "911_Fire       1405089   1405089   1400156      1405089        0  1405089   \n",
       "\n",
       "             latitude  longitude   source  \n",
       "dataSubtype                                \n",
       "311_All       2553800    2553800  2553800  \n",
       "911_Fire      1405089    1405089        0  "
      ]
     },
     "execution_count": 24,
     "metadata": {},
     "output_type": "execute_result"
    }
   ],
   "source": [
    "df.groupby(['dataSubtype']).count()"
   ]
  },
  {
   "cell_type": "code",
   "execution_count": 25,
   "metadata": {},
   "outputs": [
    {
     "data": {
      "text/plain": [
       "array([None, 'Mobile/Open311', 'Phone', 'Web', 'Integrated Agency',\n",
       "       'Other Department', 'Twitter', 'Email', 'Mail'], dtype=object)"
      ]
     },
     "execution_count": 25,
     "metadata": {},
     "output_type": "execute_result"
    }
   ],
   "source": [
    "df.source.unique()"
   ]
  },
  {
   "cell_type": "code",
   "execution_count": 26,
   "metadata": {},
   "outputs": [
    {
     "data": {
      "text/plain": [
       "array([None, 'Closed', 'Open'], dtype=object)"
      ]
     },
     "execution_count": 26,
     "metadata": {},
     "output_type": "execute_result"
    }
   ],
   "source": [
    "df.status.unique()"
   ]
  },
  {
   "cell_type": "code",
   "execution_count": 27,
   "metadata": {},
   "outputs": [],
   "source": [
    "#assume all 911 calls are via phone and closed due to visitation (if required)\n",
    "df.fillna({'source':'Phone', 'status':'Closed'}, inplace=True)"
   ]
  },
  {
   "cell_type": "code",
   "execution_count": 33,
   "metadata": {},
   "outputs": [
    {
     "name": "stdout",
     "output_type": "stream",
     "text": [
      "0.001246814447184551\n"
     ]
    }
   ],
   "source": [
    "print(4936/(len(df)+4936))"
   ]
  },
  {
   "cell_type": "code",
   "execution_count": 30,
   "metadata": {
    "scrolled": true
   },
   "outputs": [
    {
     "data": {
      "text/plain": [
       "requestId         0\n",
       "dataSubtype       0\n",
       "dateTime          0\n",
       "category       4933\n",
       "subcategory       0\n",
       "status            0\n",
       "address           3\n",
       "latitude          0\n",
       "longitude         0\n",
       "source            0\n",
       "dtype: int64"
      ]
     },
     "execution_count": 30,
     "metadata": {},
     "output_type": "execute_result"
    }
   ],
   "source": [
    "df.isnull().sum()"
   ]
  },
  {
   "cell_type": "code",
   "execution_count": 31,
   "metadata": {},
   "outputs": [],
   "source": [
    "df.dropna(inplace=True)"
   ]
  },
  {
   "cell_type": "code",
   "execution_count": 32,
   "metadata": {},
   "outputs": [
    {
     "data": {
      "text/plain": [
       "requestId      0\n",
       "dataSubtype    0\n",
       "dateTime       0\n",
       "category       0\n",
       "subcategory    0\n",
       "status         0\n",
       "address        0\n",
       "latitude       0\n",
       "longitude      0\n",
       "source         0\n",
       "dtype: int64"
      ]
     },
     "execution_count": 32,
     "metadata": {},
     "output_type": "execute_result"
    }
   ],
   "source": [
    "df.isnull().sum()"
   ]
  },
  {
   "cell_type": "code",
   "execution_count": 34,
   "metadata": {},
   "outputs": [],
   "source": [
    "df[\"dateTime\"]= pd.to_datetime(df[\"dateTime\"]) "
   ]
  },
  {
   "cell_type": "code",
   "execution_count": 35,
   "metadata": {},
   "outputs": [],
   "source": [
    "non_numeric = [ 'dataSubtype','category','subcategory','status','source']"
   ]
  },
  {
   "cell_type": "code",
   "execution_count": 36,
   "metadata": {},
   "outputs": [
    {
     "name": "stdout",
     "output_type": "stream",
     "text": [
      "Category: dataSubtype\n",
      "311_All     2553797\n",
      "911_Fire    1400156\n",
      "Name: dataSubtype, dtype: int64\n",
      "Category: category\n",
      "Street and Sidewalk Cleaning               965967\n",
      "Potentially Life-Threatening               676297\n",
      "Non Life-threatening                       349634\n",
      "Alarm                                      326893\n",
      "Graffiti                                   296927\n",
      "                                            ...  \n",
      "General Request - STATUS OF WOMEN               6\n",
      "General Request - LANGUAGE SERVICES             5\n",
      "General Request - WAR MEMORIAL                  5\n",
      "General Request - GRANTS FOR THE ARTS           1\n",
      "General Request - CONVENTION FACILITIES         1\n",
      "Name: category, Length: 95, dtype: int64\n",
      "Category: subcategory\n",
      "Medical Incident                                                                 962807\n",
      "Bulky Items                                                                      400964\n",
      "General Cleaning                                                                 305869\n",
      "Encampment Reports                                                               224565\n",
      "Alarms                                                                           159632\n",
      "                                                                                  ...  \n",
      "Construction Zone Tow-away Permits for SFDPW                                          1\n",
      "Construction Zone Tow-away Permits for SFMTA Construction Management Division         1\n",
      "Construction Zone Tow-away Permits for Tenderloin Housing Clinic                      1\n",
      "Construction Zone Tow-away Permits for Tri-North Builder                              1\n",
      "Noise Report                                                                          1\n",
      "Name: subcategory, Length: 636, dtype: int64\n",
      "Category: status\n",
      "Closed    3924139\n",
      "Open        29814\n",
      "Name: status, dtype: int64\n",
      "Category: source\n",
      "Phone                2173634\n",
      "Mobile/Open311       1339647\n",
      "Web                   353785\n",
      "Integrated Agency      71120\n",
      "Twitter                12549\n",
      "Other Department        3207\n",
      "Email                     10\n",
      "Mail                       1\n",
      "Name: source, dtype: int64\n"
     ]
    }
   ],
   "source": [
    "for cat in non_numeric:\n",
    "    print('Category: '+cat)\n",
    "    print(df[cat].value_counts())\n"
   ]
  },
  {
   "cell_type": "code",
   "execution_count": 38,
   "metadata": {
    "scrolled": true
   },
   "outputs": [],
   "source": [
    "for cat in non_numeric:\n",
    "    df[cat] = df[cat].astype('category')"
   ]
  },
  {
   "cell_type": "code",
   "execution_count": 39,
   "metadata": {},
   "outputs": [
    {
     "data": {
      "text/html": [
       "<div>\n",
       "<style scoped>\n",
       "    .dataframe tbody tr th:only-of-type {\n",
       "        vertical-align: middle;\n",
       "    }\n",
       "\n",
       "    .dataframe tbody tr th {\n",
       "        vertical-align: top;\n",
       "    }\n",
       "\n",
       "    .dataframe thead th {\n",
       "        text-align: right;\n",
       "    }\n",
       "</style>\n",
       "<table border=\"1\" class=\"dataframe\">\n",
       "  <thead>\n",
       "    <tr style=\"text-align: right;\">\n",
       "      <th></th>\n",
       "      <th>requestId</th>\n",
       "      <th>dataSubtype</th>\n",
       "      <th>dateTime</th>\n",
       "      <th>category</th>\n",
       "      <th>subcategory</th>\n",
       "      <th>status</th>\n",
       "      <th>address</th>\n",
       "      <th>latitude</th>\n",
       "      <th>longitude</th>\n",
       "      <th>source</th>\n",
       "    </tr>\n",
       "  </thead>\n",
       "  <tbody>\n",
       "    <tr>\n",
       "      <th>0</th>\n",
       "      <td>1</td>\n",
       "      <td>911_Fire</td>\n",
       "      <td>2018-10-02 11:54:01</td>\n",
       "      <td>Potentially Life-Threatening</td>\n",
       "      <td>Medical Incident</td>\n",
       "      <td>Closed</td>\n",
       "      <td>ELM ST/FRANKLIN ST</td>\n",
       "      <td>37.781286</td>\n",
       "      <td>-122.422187</td>\n",
       "      <td>Phone</td>\n",
       "    </tr>\n",
       "    <tr>\n",
       "      <th>1</th>\n",
       "      <td>2</td>\n",
       "      <td>311_All</td>\n",
       "      <td>2018-07-08 15:00:27</td>\n",
       "      <td>Street and Sidewalk Cleaning</td>\n",
       "      <td>Bulky Items</td>\n",
       "      <td>Closed</td>\n",
       "      <td>1536 SACRAMENTO ST, SAN FRANCISCO, CA, 94109</td>\n",
       "      <td>37.791887</td>\n",
       "      <td>-122.418188</td>\n",
       "      <td>Mobile/Open311</td>\n",
       "    </tr>\n",
       "    <tr>\n",
       "      <th>2</th>\n",
       "      <td>3</td>\n",
       "      <td>311_All</td>\n",
       "      <td>2016-06-28 13:12:28</td>\n",
       "      <td>General Request - COUNTY CLERK</td>\n",
       "      <td>customer_callback</td>\n",
       "      <td>Closed</td>\n",
       "      <td>Not associated with a specific address</td>\n",
       "      <td>0.000000</td>\n",
       "      <td>0.000000</td>\n",
       "      <td>Phone</td>\n",
       "    </tr>\n",
       "    <tr>\n",
       "      <th>3</th>\n",
       "      <td>7</td>\n",
       "      <td>311_All</td>\n",
       "      <td>2017-03-03 09:34:49</td>\n",
       "      <td>Temporary Sign Request</td>\n",
       "      <td>Temporary Sign Request for Other_Event_Type</td>\n",
       "      <td>Closed</td>\n",
       "      <td>2190 NORTH POINT ST, SAN FRANCISCO, CA, 94123</td>\n",
       "      <td>37.802853</td>\n",
       "      <td>-122.443245</td>\n",
       "      <td>Phone</td>\n",
       "    </tr>\n",
       "    <tr>\n",
       "      <th>4</th>\n",
       "      <td>10</td>\n",
       "      <td>911_Fire</td>\n",
       "      <td>2016-10-25 18:33:20</td>\n",
       "      <td>Potentially Life-Threatening</td>\n",
       "      <td>Medical Incident</td>\n",
       "      <td>Closed</td>\n",
       "      <td>200 Block of DALEWOOD WAY</td>\n",
       "      <td>37.737953</td>\n",
       "      <td>-122.456498</td>\n",
       "      <td>Phone</td>\n",
       "    </tr>\n",
       "  </tbody>\n",
       "</table>\n",
       "</div>"
      ],
      "text/plain": [
       "   requestId dataSubtype            dateTime                        category  \\\n",
       "0          1    911_Fire 2018-10-02 11:54:01    Potentially Life-Threatening   \n",
       "1          2     311_All 2018-07-08 15:00:27    Street and Sidewalk Cleaning   \n",
       "2          3     311_All 2016-06-28 13:12:28  General Request - COUNTY CLERK   \n",
       "3          7     311_All 2017-03-03 09:34:49          Temporary Sign Request   \n",
       "4         10    911_Fire 2016-10-25 18:33:20    Potentially Life-Threatening   \n",
       "\n",
       "                                   subcategory  status  \\\n",
       "0                             Medical Incident  Closed   \n",
       "1                                  Bulky Items  Closed   \n",
       "2                            customer_callback  Closed   \n",
       "3  Temporary Sign Request for Other_Event_Type  Closed   \n",
       "4                             Medical Incident  Closed   \n",
       "\n",
       "                                         address   latitude   longitude  \\\n",
       "0                             ELM ST/FRANKLIN ST  37.781286 -122.422187   \n",
       "1   1536 SACRAMENTO ST, SAN FRANCISCO, CA, 94109  37.791887 -122.418188   \n",
       "2         Not associated with a specific address   0.000000    0.000000   \n",
       "3  2190 NORTH POINT ST, SAN FRANCISCO, CA, 94123  37.802853 -122.443245   \n",
       "4                      200 Block of DALEWOOD WAY  37.737953 -122.456498   \n",
       "\n",
       "           source  \n",
       "0           Phone  \n",
       "1  Mobile/Open311  \n",
       "2           Phone  \n",
       "3           Phone  \n",
       "4           Phone  "
      ]
     },
     "execution_count": 39,
     "metadata": {},
     "output_type": "execute_result"
    }
   ],
   "source": [
    "df.head()\n",
    "#df.groupby(['dataSubtype', 'source']).count()"
   ]
  },
  {
   "cell_type": "markdown",
   "metadata": {},
   "source": [
    "\n",
    "-     choose a date randomly and review the types of events that occurred at this date to get a better feeling for the day to day work of city services.\n",
    "-     pick an address in the data and review its history of safety events.\n"
   ]
  },
  {
   "cell_type": "code",
   "execution_count": 40,
   "metadata": {},
   "outputs": [
    {
     "data": {
      "text/html": [
       "<div>\n",
       "<style scoped>\n",
       "    .dataframe tbody tr th:only-of-type {\n",
       "        vertical-align: middle;\n",
       "    }\n",
       "\n",
       "    .dataframe tbody tr th {\n",
       "        vertical-align: top;\n",
       "    }\n",
       "\n",
       "    .dataframe thead th {\n",
       "        text-align: right;\n",
       "    }\n",
       "</style>\n",
       "<table border=\"1\" class=\"dataframe\">\n",
       "  <thead>\n",
       "    <tr style=\"text-align: right;\">\n",
       "      <th></th>\n",
       "      <th>requestId</th>\n",
       "      <th>dataSubtype</th>\n",
       "      <th>dateTime</th>\n",
       "      <th>category</th>\n",
       "      <th>subcategory</th>\n",
       "      <th>status</th>\n",
       "      <th>address</th>\n",
       "      <th>latitude</th>\n",
       "      <th>longitude</th>\n",
       "      <th>source</th>\n",
       "    </tr>\n",
       "  </thead>\n",
       "  <tbody>\n",
       "    <tr>\n",
       "      <th>12732</th>\n",
       "      <td>30733</td>\n",
       "      <td>911_Fire</td>\n",
       "      <td>2019-12-16 11:35:19</td>\n",
       "      <td>Alarm</td>\n",
       "      <td>Structure Fire</td>\n",
       "      <td>Closed</td>\n",
       "      <td>600 Block of JONES ST</td>\n",
       "      <td>37.787065</td>\n",
       "      <td>-122.413160</td>\n",
       "      <td>Phone</td>\n",
       "    </tr>\n",
       "    <tr>\n",
       "      <th>20328</th>\n",
       "      <td>49280</td>\n",
       "      <td>911_Fire</td>\n",
       "      <td>2016-06-21 06:40:52</td>\n",
       "      <td>Potentially Life-Threatening</td>\n",
       "      <td>Medical Incident</td>\n",
       "      <td>Closed</td>\n",
       "      <td>600 Block of JONES ST</td>\n",
       "      <td>37.787065</td>\n",
       "      <td>-122.413160</td>\n",
       "      <td>Phone</td>\n",
       "    </tr>\n",
       "    <tr>\n",
       "      <th>43284</th>\n",
       "      <td>104556</td>\n",
       "      <td>911_Fire</td>\n",
       "      <td>2017-09-10 23:26:06</td>\n",
       "      <td>Alarm</td>\n",
       "      <td>Fuel Spill</td>\n",
       "      <td>Closed</td>\n",
       "      <td>600 Block of JONES ST</td>\n",
       "      <td>37.787048</td>\n",
       "      <td>-122.413296</td>\n",
       "      <td>Phone</td>\n",
       "    </tr>\n",
       "    <tr>\n",
       "      <th>71723</th>\n",
       "      <td>174140</td>\n",
       "      <td>911_Fire</td>\n",
       "      <td>2019-10-16 23:14:02</td>\n",
       "      <td>Potentially Life-Threatening</td>\n",
       "      <td>Medical Incident</td>\n",
       "      <td>Closed</td>\n",
       "      <td>600 Block of JONES ST</td>\n",
       "      <td>37.787048</td>\n",
       "      <td>-122.413296</td>\n",
       "      <td>Phone</td>\n",
       "    </tr>\n",
       "    <tr>\n",
       "      <th>74026</th>\n",
       "      <td>179666</td>\n",
       "      <td>911_Fire</td>\n",
       "      <td>2020-05-08 01:37:08</td>\n",
       "      <td>Alarm</td>\n",
       "      <td>Structure Fire</td>\n",
       "      <td>Closed</td>\n",
       "      <td>600 Block of JONES ST</td>\n",
       "      <td>37.787065</td>\n",
       "      <td>-122.413160</td>\n",
       "      <td>Phone</td>\n",
       "    </tr>\n",
       "    <tr>\n",
       "      <th>...</th>\n",
       "      <td>...</td>\n",
       "      <td>...</td>\n",
       "      <td>...</td>\n",
       "      <td>...</td>\n",
       "      <td>...</td>\n",
       "      <td>...</td>\n",
       "      <td>...</td>\n",
       "      <td>...</td>\n",
       "      <td>...</td>\n",
       "      <td>...</td>\n",
       "    </tr>\n",
       "    <tr>\n",
       "      <th>3943804</th>\n",
       "      <td>1166192</td>\n",
       "      <td>911_Fire</td>\n",
       "      <td>2017-01-17 23:28:36</td>\n",
       "      <td>Non Life-threatening</td>\n",
       "      <td>Medical Incident</td>\n",
       "      <td>Closed</td>\n",
       "      <td>600 Block of JONES ST</td>\n",
       "      <td>37.787065</td>\n",
       "      <td>-122.413160</td>\n",
       "      <td>Phone</td>\n",
       "    </tr>\n",
       "    <tr>\n",
       "      <th>3943835</th>\n",
       "      <td>1166272</td>\n",
       "      <td>911_Fire</td>\n",
       "      <td>2016-02-21 17:38:51</td>\n",
       "      <td>Non Life-threatening</td>\n",
       "      <td>Medical Incident</td>\n",
       "      <td>Closed</td>\n",
       "      <td>600 Block of JONES ST</td>\n",
       "      <td>37.787065</td>\n",
       "      <td>-122.413160</td>\n",
       "      <td>Phone</td>\n",
       "    </tr>\n",
       "    <tr>\n",
       "      <th>3950567</th>\n",
       "      <td>1182766</td>\n",
       "      <td>911_Fire</td>\n",
       "      <td>2016-02-13 23:28:10</td>\n",
       "      <td>Potentially Life-Threatening</td>\n",
       "      <td>Medical Incident</td>\n",
       "      <td>Closed</td>\n",
       "      <td>600 Block of JONES ST</td>\n",
       "      <td>37.787048</td>\n",
       "      <td>-122.413296</td>\n",
       "      <td>Phone</td>\n",
       "    </tr>\n",
       "    <tr>\n",
       "      <th>3953356</th>\n",
       "      <td>1189714</td>\n",
       "      <td>911_Fire</td>\n",
       "      <td>2016-05-22 00:10:37</td>\n",
       "      <td>Alarm</td>\n",
       "      <td>Elevator / Escalator Rescue</td>\n",
       "      <td>Closed</td>\n",
       "      <td>600 Block of JONES ST</td>\n",
       "      <td>37.787065</td>\n",
       "      <td>-122.413160</td>\n",
       "      <td>Phone</td>\n",
       "    </tr>\n",
       "    <tr>\n",
       "      <th>3958503</th>\n",
       "      <td>1202187</td>\n",
       "      <td>911_Fire</td>\n",
       "      <td>2019-12-20 08:37:18</td>\n",
       "      <td>Alarm</td>\n",
       "      <td>Structure Fire</td>\n",
       "      <td>Closed</td>\n",
       "      <td>600 Block of JONES ST</td>\n",
       "      <td>37.787065</td>\n",
       "      <td>-122.413160</td>\n",
       "      <td>Phone</td>\n",
       "    </tr>\n",
       "  </tbody>\n",
       "</table>\n",
       "<p>330 rows × 10 columns</p>\n",
       "</div>"
      ],
      "text/plain": [
       "         requestId dataSubtype            dateTime  \\\n",
       "12732        30733    911_Fire 2019-12-16 11:35:19   \n",
       "20328        49280    911_Fire 2016-06-21 06:40:52   \n",
       "43284       104556    911_Fire 2017-09-10 23:26:06   \n",
       "71723       174140    911_Fire 2019-10-16 23:14:02   \n",
       "74026       179666    911_Fire 2020-05-08 01:37:08   \n",
       "...            ...         ...                 ...   \n",
       "3943804    1166192    911_Fire 2017-01-17 23:28:36   \n",
       "3943835    1166272    911_Fire 2016-02-21 17:38:51   \n",
       "3950567    1182766    911_Fire 2016-02-13 23:28:10   \n",
       "3953356    1189714    911_Fire 2016-05-22 00:10:37   \n",
       "3958503    1202187    911_Fire 2019-12-20 08:37:18   \n",
       "\n",
       "                             category                  subcategory  status  \\\n",
       "12732                           Alarm               Structure Fire  Closed   \n",
       "20328    Potentially Life-Threatening             Medical Incident  Closed   \n",
       "43284                           Alarm                   Fuel Spill  Closed   \n",
       "71723    Potentially Life-Threatening             Medical Incident  Closed   \n",
       "74026                           Alarm               Structure Fire  Closed   \n",
       "...                               ...                          ...     ...   \n",
       "3943804          Non Life-threatening             Medical Incident  Closed   \n",
       "3943835          Non Life-threatening             Medical Incident  Closed   \n",
       "3950567  Potentially Life-Threatening             Medical Incident  Closed   \n",
       "3953356                         Alarm  Elevator / Escalator Rescue  Closed   \n",
       "3958503                         Alarm               Structure Fire  Closed   \n",
       "\n",
       "                       address   latitude   longitude source  \n",
       "12732    600 Block of JONES ST  37.787065 -122.413160  Phone  \n",
       "20328    600 Block of JONES ST  37.787065 -122.413160  Phone  \n",
       "43284    600 Block of JONES ST  37.787048 -122.413296  Phone  \n",
       "71723    600 Block of JONES ST  37.787048 -122.413296  Phone  \n",
       "74026    600 Block of JONES ST  37.787065 -122.413160  Phone  \n",
       "...                        ...        ...         ...    ...  \n",
       "3943804  600 Block of JONES ST  37.787065 -122.413160  Phone  \n",
       "3943835  600 Block of JONES ST  37.787065 -122.413160  Phone  \n",
       "3950567  600 Block of JONES ST  37.787048 -122.413296  Phone  \n",
       "3953356  600 Block of JONES ST  37.787065 -122.413160  Phone  \n",
       "3958503  600 Block of JONES ST  37.787065 -122.413160  Phone  \n",
       "\n",
       "[330 rows x 10 columns]"
      ]
     },
     "execution_count": 40,
     "metadata": {},
     "output_type": "execute_result"
    }
   ],
   "source": [
    "df[df.address == '600 Block of JONES ST']"
   ]
  },
  {
   "cell_type": "code",
   "execution_count": 6,
   "metadata": {},
   "outputs": [
    {
     "data": {
      "text/plain": [
       "3958889"
      ]
     },
     "execution_count": 6,
     "metadata": {},
     "output_type": "execute_result"
    }
   ],
   "source": [
    "len(df)"
   ]
  },
  {
   "cell_type": "code",
   "execution_count": 7,
   "metadata": {},
   "outputs": [],
   "source": [
    "df.drop_duplicates(keep = 'first', inplace = True)"
   ]
  },
  {
   "cell_type": "code",
   "execution_count": 8,
   "metadata": {},
   "outputs": [
    {
     "data": {
      "text/plain": [
       "3958888"
      ]
     },
     "execution_count": 8,
     "metadata": {},
     "output_type": "execute_result"
    }
   ],
   "source": [
    "len(df)"
   ]
  },
  {
   "cell_type": "code",
   "execution_count": 10,
   "metadata": {},
   "outputs": [],
   "source": [
    "df.to_parquet('cleaned_safety-SanFrancisco.parquet', compression='snappy') "
   ]
  },
  {
   "cell_type": "code",
   "execution_count": null,
   "metadata": {},
   "outputs": [],
   "source": []
  }
 ],
 "metadata": {
  "kernelspec": {
   "display_name": "Python 3",
   "language": "python",
   "name": "python3"
  },
  "language_info": {
   "codemirror_mode": {
    "name": "ipython",
    "version": 3
   },
   "file_extension": ".py",
   "mimetype": "text/x-python",
   "name": "python",
   "nbconvert_exporter": "python",
   "pygments_lexer": "ipython3",
   "version": "3.7.9"
  }
 },
 "nbformat": 4,
 "nbformat_minor": 4
}
